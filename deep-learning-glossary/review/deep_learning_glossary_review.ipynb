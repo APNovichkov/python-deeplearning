{
 "cells": [
  {
   "cell_type": "code",
   "execution_count": 1,
   "metadata": {},
   "outputs": [
    {
     "name": "stderr",
     "output_type": "stream",
     "text": [
      "Using TensorFlow backend.\n"
     ]
    }
   ],
   "source": [
    "import warnings\n",
    "warnings.simplefilter(action='ignore', category=FutureWarning)\n",
    "\n",
    "from keras.models import Sequential\n",
    "from keras.layers.core import Dense, Activation\n",
    "from keras.utils import np_utils\n",
    "from sklearn import datasets\n",
    "from sklearn.model_selection import train_test_split\n",
    "import matplotlib.pyplot as plt"
   ]
  },
  {
   "cell_type": "markdown",
   "metadata": {},
   "source": [
    "# Review of Deep Learning Vocab and Intuition"
   ]
  },
  {
   "cell_type": "markdown",
   "metadata": {},
   "source": [
    "## Activation Function: \n",
    "- This is what allows the Neural Network to learn complex decision boundaries  \n",
    "- Commonly used activation functions are: Softmax, ReLu, sigmoid, tanh, linear\n",
    "- We will later learn which one to choose for what scenarios"
   ]
  },
  {
   "cell_type": "code",
   "execution_count": null,
   "metadata": {},
   "outputs": [],
   "source": [
    "model = Sequential()\n",
    "model.add(Dense(10, activation='relu', input_shape=(1,)))"
   ]
  },
  {
   "cell_type": "markdown",
   "metadata": {},
   "source": [
    "## Loss Function (Cost Function): \n",
    "- This is the function which calculates the error between expected and predicted values.\n",
    "- **We want to lower the loss function**, which we can do by choosing a good optimizer (next def)\n",
    "\n",
    "### There are two types of problems in deep learning: Linear and Classification\n",
    "##### For Linear Prediction type of problem: \n",
    "\n",
    "- We use the Mean Squared Error(MSE) cost function\n",
    "\n",
    "##### For Classification type of problem: \n",
    "\n",
    "- We use categorical crossentropy if there are **more than 2** outcome classes\n",
    "- We use bineary crossentropy if there are **exactly 2** outcome classes"
   ]
  },
  {
   "cell_type": "code",
   "execution_count": null,
   "metadata": {},
   "outputs": [],
   "source": [
    "model.compile(loss='mse')\n",
    "model.compile(loss='binary_crossentropy')"
   ]
  },
  {
   "cell_type": "markdown",
   "metadata": {},
   "source": [
    "## Optimizer (Algorithms to Minimize Error)\n",
    "- This is the algorithm which defines how we attempt to minimize error as we are doing backward propagation\n",
    "- There are a couple of different ones: \n",
    "\n",
    "#### Gradient Descent (GD)\n",
    "- Essentiall like climbing down a hill! \n",
    "- Needs learning rate\n",
    "\n",
    "#### Stochastic Gradient Descent (SGD)\n",
    "- Essentiall like climbing down a hill! \n",
    "- Needs learning rate\n",
    "\n",
    "**Q: What is the difference between regular Gradient Descent and Stochatic Gradient Descent**\n",
    "\n",
    "#### Some others: \n",
    "- RMSprop, Adagrad, Adadelta, Adam, Adamax, Nadam"
   ]
  },
  {
   "cell_type": "code",
   "execution_count": null,
   "metadata": {},
   "outputs": [],
   "source": [
    "model.compile(loss='mse', optimizer='sgd')"
   ]
  },
  {
   "cell_type": "markdown",
   "metadata": {},
   "source": [
    "## Dropout\n",
    "- This a technique used when building the model that prevents overfitting. \n",
    "- Essentially it makes sure that neurons are not fully connected to each other between Network Layers"
   ]
  },
  {
   "cell_type": "code",
   "execution_count": null,
   "metadata": {},
   "outputs": [],
   "source": [
    "model.add(Dropout(.25))"
   ]
  },
  {
   "cell_type": "markdown",
   "metadata": {},
   "source": [
    "## Epoch\n",
    "- This defines how many times the entire dataset is passed through the neural network forward and backwards"
   ]
  },
  {
   "cell_type": "markdown",
   "metadata": {},
   "source": [
    "## Batch_size\n",
    "- This is how many datapoints the neural network is going to pass through the neural net at a single time. \n",
    "- In other words, it is **the number of samples per weight update**"
   ]
  },
  {
   "cell_type": "markdown",
   "metadata": {},
   "source": [
    "mode;"
   ]
  }
 ],
 "metadata": {
  "kernelspec": {
   "display_name": "Python 3",
   "language": "python",
   "name": "python3"
  },
  "language_info": {
   "codemirror_mode": {
    "name": "ipython",
    "version": 3
   },
   "file_extension": ".py",
   "mimetype": "text/x-python",
   "name": "python",
   "nbconvert_exporter": "python",
   "pygments_lexer": "ipython3",
   "version": "3.7.6"
  }
 },
 "nbformat": 4,
 "nbformat_minor": 4
}
