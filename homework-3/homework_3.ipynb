{
 "cells": [
  {
   "cell_type": "code",
   "execution_count": 106,
   "metadata": {},
   "outputs": [],
   "source": [
    "import warnings\n",
    "warnings.simplefilter(action='ignore', category=FutureWarning)\n",
    "\n",
    "import pandas as pd\n",
    "from sklearn.preprocessing import LabelEncoder, OneHotEncoder\n",
    "from sklearn.model_selection import train_test_split\n",
    "from sklearn.preprocessing import StandardScaler\n",
    "from sklearn.metrics import accuracy_score, confusion_matrix, classification_report\n",
    "\n",
    "import keras\n",
    "from keras.models import Sequential\n",
    "from keras.layers import Dense"
   ]
  },
  {
   "cell_type": "code",
   "execution_count": 13,
   "metadata": {},
   "outputs": [
    {
     "data": {
      "text/html": [
       "<div>\n",
       "<style scoped>\n",
       "    .dataframe tbody tr th:only-of-type {\n",
       "        vertical-align: middle;\n",
       "    }\n",
       "\n",
       "    .dataframe tbody tr th {\n",
       "        vertical-align: top;\n",
       "    }\n",
       "\n",
       "    .dataframe thead th {\n",
       "        text-align: right;\n",
       "    }\n",
       "</style>\n",
       "<table border=\"1\" class=\"dataframe\">\n",
       "  <thead>\n",
       "    <tr style=\"text-align: right;\">\n",
       "      <th></th>\n",
       "      <th>RowNumber</th>\n",
       "      <th>CustomerId</th>\n",
       "      <th>Surname</th>\n",
       "      <th>CreditScore</th>\n",
       "      <th>Geography</th>\n",
       "      <th>Gender</th>\n",
       "      <th>Age</th>\n",
       "      <th>Tenure</th>\n",
       "      <th>Balance</th>\n",
       "      <th>NumOfProducts</th>\n",
       "      <th>HasCrCard</th>\n",
       "      <th>IsActiveMember</th>\n",
       "      <th>EstimatedSalary</th>\n",
       "      <th>Exited</th>\n",
       "    </tr>\n",
       "  </thead>\n",
       "  <tbody>\n",
       "    <tr>\n",
       "      <th>0</th>\n",
       "      <td>1</td>\n",
       "      <td>15634602</td>\n",
       "      <td>Hargrave</td>\n",
       "      <td>619</td>\n",
       "      <td>France</td>\n",
       "      <td>Female</td>\n",
       "      <td>42</td>\n",
       "      <td>2</td>\n",
       "      <td>0.00</td>\n",
       "      <td>1</td>\n",
       "      <td>1</td>\n",
       "      <td>1</td>\n",
       "      <td>101348.88</td>\n",
       "      <td>1</td>\n",
       "    </tr>\n",
       "    <tr>\n",
       "      <th>1</th>\n",
       "      <td>2</td>\n",
       "      <td>15647311</td>\n",
       "      <td>Hill</td>\n",
       "      <td>608</td>\n",
       "      <td>Spain</td>\n",
       "      <td>Female</td>\n",
       "      <td>41</td>\n",
       "      <td>1</td>\n",
       "      <td>83807.86</td>\n",
       "      <td>1</td>\n",
       "      <td>0</td>\n",
       "      <td>1</td>\n",
       "      <td>112542.58</td>\n",
       "      <td>0</td>\n",
       "    </tr>\n",
       "    <tr>\n",
       "      <th>2</th>\n",
       "      <td>3</td>\n",
       "      <td>15619304</td>\n",
       "      <td>Onio</td>\n",
       "      <td>502</td>\n",
       "      <td>France</td>\n",
       "      <td>Female</td>\n",
       "      <td>42</td>\n",
       "      <td>8</td>\n",
       "      <td>159660.80</td>\n",
       "      <td>3</td>\n",
       "      <td>1</td>\n",
       "      <td>0</td>\n",
       "      <td>113931.57</td>\n",
       "      <td>1</td>\n",
       "    </tr>\n",
       "    <tr>\n",
       "      <th>3</th>\n",
       "      <td>4</td>\n",
       "      <td>15701354</td>\n",
       "      <td>Boni</td>\n",
       "      <td>699</td>\n",
       "      <td>France</td>\n",
       "      <td>Female</td>\n",
       "      <td>39</td>\n",
       "      <td>1</td>\n",
       "      <td>0.00</td>\n",
       "      <td>2</td>\n",
       "      <td>0</td>\n",
       "      <td>0</td>\n",
       "      <td>93826.63</td>\n",
       "      <td>0</td>\n",
       "    </tr>\n",
       "    <tr>\n",
       "      <th>4</th>\n",
       "      <td>5</td>\n",
       "      <td>15737888</td>\n",
       "      <td>Mitchell</td>\n",
       "      <td>850</td>\n",
       "      <td>Spain</td>\n",
       "      <td>Female</td>\n",
       "      <td>43</td>\n",
       "      <td>2</td>\n",
       "      <td>125510.82</td>\n",
       "      <td>1</td>\n",
       "      <td>1</td>\n",
       "      <td>1</td>\n",
       "      <td>79084.10</td>\n",
       "      <td>0</td>\n",
       "    </tr>\n",
       "  </tbody>\n",
       "</table>\n",
       "</div>"
      ],
      "text/plain": [
       "   RowNumber  CustomerId   Surname  CreditScore Geography  Gender  Age  \\\n",
       "0          1    15634602  Hargrave          619    France  Female   42   \n",
       "1          2    15647311      Hill          608     Spain  Female   41   \n",
       "2          3    15619304      Onio          502    France  Female   42   \n",
       "3          4    15701354      Boni          699    France  Female   39   \n",
       "4          5    15737888  Mitchell          850     Spain  Female   43   \n",
       "\n",
       "   Tenure    Balance  NumOfProducts  HasCrCard  IsActiveMember  \\\n",
       "0       2       0.00              1          1               1   \n",
       "1       1   83807.86              1          0               1   \n",
       "2       8  159660.80              3          1               0   \n",
       "3       1       0.00              2          0               0   \n",
       "4       2  125510.82              1          1               1   \n",
       "\n",
       "   EstimatedSalary  Exited  \n",
       "0        101348.88       1  \n",
       "1        112542.58       0  \n",
       "2        113931.57       1  \n",
       "3         93826.63       0  \n",
       "4         79084.10       0  "
      ]
     },
     "execution_count": 13,
     "metadata": {},
     "output_type": "execute_result"
    }
   ],
   "source": [
    "df = pd.read_csv('Churn_Modelling.csv')\n",
    "df.head()"
   ]
  },
  {
   "cell_type": "code",
   "execution_count": 59,
   "metadata": {},
   "outputs": [
    {
     "data": {
      "text/plain": [
       "0    7963\n",
       "1    2037\n",
       "Name: Exited, dtype: int64"
      ]
     },
     "execution_count": 59,
     "metadata": {},
     "output_type": "execute_result"
    }
   ],
   "source": [
    "df['Exited'].value_counts()"
   ]
  },
  {
   "cell_type": "code",
   "execution_count": 7,
   "metadata": {},
   "outputs": [
    {
     "data": {
      "text/plain": [
       "array([0, 2, 0, ..., 0, 1, 0])"
      ]
     },
     "execution_count": 7,
     "metadata": {},
     "output_type": "execute_result"
    }
   ],
   "source": [
    "df['Gender'] = LabelEncoder().fit_transform(df['Gender'])\n",
    "onehot_geography = LabelEncoder().fit_transform(df['Geography'])\n",
    "onehot_geography"
   ]
  },
  {
   "cell_type": "code",
   "execution_count": 16,
   "metadata": {},
   "outputs": [],
   "source": [
    "categorical_features = ['Gender', 'Geography']"
   ]
  },
  {
   "cell_type": "code",
   "execution_count": 21,
   "metadata": {},
   "outputs": [],
   "source": [
    "X = df.iloc[:, 3:13]\n",
    "y = df.iloc[:, 13]\n",
    "\n",
    "X = pd.get_dummies(X).values"
   ]
  },
  {
   "cell_type": "code",
   "execution_count": 35,
   "metadata": {},
   "outputs": [],
   "source": [
    "X_train, X_test, y_train, y_test = train_test_split(X, y, test_size = .2, random_state=0)"
   ]
  },
  {
   "cell_type": "code",
   "execution_count": 36,
   "metadata": {},
   "outputs": [],
   "source": [
    "X_train = StandardScaler().fit_transform(X_train)\n",
    "X_test = StandardScaler().fit_transform(X_test)"
   ]
  },
  {
   "cell_type": "code",
   "execution_count": 52,
   "metadata": {},
   "outputs": [],
   "source": [
    "model = Sequential()\n",
    "model.add(Dense(6, input_shape=[13,], activation='relu'))\n",
    "model.add(Dense(6, activation='relu'))\n",
    "model.add(Dense(1, kernel_initializer='uniform', activation='sigmoid'))\n",
    "model.compile(loss='binary_crossentropy', optimizer=\"adam\", metrics=['accuracy'])"
   ]
  },
  {
   "cell_type": "code",
   "execution_count": 95,
   "metadata": {},
   "outputs": [
    {
     "name": "stdout",
     "output_type": "stream",
     "text": [
      "Train on 6400 samples, validate on 1600 samples\n",
      "Epoch 1/50\n",
      "6400/6400 [==============================] - 0s 45us/step - loss: 0.3550 - acc: 0.8550 - val_loss: 0.3708 - val_acc: 0.8444\n",
      "Epoch 2/50\n",
      "6400/6400 [==============================] - 0s 36us/step - loss: 0.3541 - acc: 0.8558 - val_loss: 0.3698 - val_acc: 0.8500\n",
      "Epoch 3/50\n",
      "6400/6400 [==============================] - 0s 35us/step - loss: 0.3540 - acc: 0.8552 - val_loss: 0.3687 - val_acc: 0.8456\n",
      "Epoch 4/50\n",
      "6400/6400 [==============================] - 0s 37us/step - loss: 0.3534 - acc: 0.8559 - val_loss: 0.3679 - val_acc: 0.8462\n",
      "Epoch 5/50\n",
      "6400/6400 [==============================] - 0s 39us/step - loss: 0.3529 - acc: 0.8570 - val_loss: 0.3669 - val_acc: 0.8494\n",
      "Epoch 6/50\n",
      "6400/6400 [==============================] - 0s 38us/step - loss: 0.3523 - acc: 0.8572 - val_loss: 0.3662 - val_acc: 0.8462\n",
      "Epoch 7/50\n",
      "6400/6400 [==============================] - 0s 34us/step - loss: 0.3522 - acc: 0.8559 - val_loss: 0.3671 - val_acc: 0.8462\n",
      "Epoch 8/50\n",
      "6400/6400 [==============================] - 0s 36us/step - loss: 0.3514 - acc: 0.8572 - val_loss: 0.3657 - val_acc: 0.8481\n",
      "Epoch 9/50\n",
      "6400/6400 [==============================] - 0s 36us/step - loss: 0.3508 - acc: 0.8577 - val_loss: 0.3664 - val_acc: 0.8450\n",
      "Epoch 10/50\n",
      "6400/6400 [==============================] - 0s 36us/step - loss: 0.3508 - acc: 0.8564 - val_loss: 0.3648 - val_acc: 0.8500\n",
      "Epoch 11/50\n",
      "6400/6400 [==============================] - 0s 39us/step - loss: 0.3499 - acc: 0.8573 - val_loss: 0.3644 - val_acc: 0.8519\n",
      "Epoch 12/50\n",
      "6400/6400 [==============================] - 0s 36us/step - loss: 0.3503 - acc: 0.8583 - val_loss: 0.3638 - val_acc: 0.8506\n",
      "Epoch 13/50\n",
      "6400/6400 [==============================] - 0s 34us/step - loss: 0.3491 - acc: 0.8572 - val_loss: 0.3644 - val_acc: 0.8494\n",
      "Epoch 14/50\n",
      "6400/6400 [==============================] - 0s 36us/step - loss: 0.3485 - acc: 0.8577 - val_loss: 0.3649 - val_acc: 0.8481\n",
      "Epoch 15/50\n",
      "6400/6400 [==============================] - 0s 34us/step - loss: 0.3483 - acc: 0.8586 - val_loss: 0.3633 - val_acc: 0.8500\n",
      "Epoch 16/50\n",
      "6400/6400 [==============================] - 0s 50us/step - loss: 0.3482 - acc: 0.8614 - val_loss: 0.3635 - val_acc: 0.8494\n",
      "Epoch 17/50\n",
      "6400/6400 [==============================] - 0s 45us/step - loss: 0.3478 - acc: 0.8609 - val_loss: 0.3653 - val_acc: 0.8494\n",
      "Epoch 18/50\n",
      "6400/6400 [==============================] - 0s 41us/step - loss: 0.3476 - acc: 0.8572 - val_loss: 0.3623 - val_acc: 0.8500\n",
      "Epoch 19/50\n",
      "6400/6400 [==============================] - 0s 36us/step - loss: 0.3468 - acc: 0.8614 - val_loss: 0.3625 - val_acc: 0.8500\n",
      "Epoch 20/50\n",
      "6400/6400 [==============================] - 0s 33us/step - loss: 0.3473 - acc: 0.8602 - val_loss: 0.3629 - val_acc: 0.8512\n",
      "Epoch 21/50\n",
      "6400/6400 [==============================] - 0s 35us/step - loss: 0.3467 - acc: 0.8598 - val_loss: 0.3613 - val_acc: 0.8519\n",
      "Epoch 22/50\n",
      "6400/6400 [==============================] - 0s 34us/step - loss: 0.3460 - acc: 0.8605 - val_loss: 0.3614 - val_acc: 0.8494\n",
      "Epoch 23/50\n",
      "6400/6400 [==============================] - 0s 32us/step - loss: 0.3464 - acc: 0.8586 - val_loss: 0.3615 - val_acc: 0.8494\n",
      "Epoch 24/50\n",
      "6400/6400 [==============================] - 0s 31us/step - loss: 0.3457 - acc: 0.8586 - val_loss: 0.3618 - val_acc: 0.8494\n",
      "Epoch 25/50\n",
      "6400/6400 [==============================] - 0s 32us/step - loss: 0.3451 - acc: 0.8611 - val_loss: 0.3608 - val_acc: 0.8525\n",
      "Epoch 26/50\n",
      "6400/6400 [==============================] - 0s 31us/step - loss: 0.3450 - acc: 0.8598 - val_loss: 0.3603 - val_acc: 0.8544\n",
      "Epoch 27/50\n",
      "6400/6400 [==============================] - 0s 32us/step - loss: 0.3449 - acc: 0.8616 - val_loss: 0.3610 - val_acc: 0.8481\n",
      "Epoch 28/50\n",
      "6400/6400 [==============================] - 0s 33us/step - loss: 0.3446 - acc: 0.8606 - val_loss: 0.3606 - val_acc: 0.8500\n",
      "Epoch 29/50\n",
      "6400/6400 [==============================] - 0s 31us/step - loss: 0.3446 - acc: 0.8619 - val_loss: 0.3599 - val_acc: 0.8506\n",
      "Epoch 30/50\n",
      "6400/6400 [==============================] - 0s 31us/step - loss: 0.3440 - acc: 0.8606 - val_loss: 0.3628 - val_acc: 0.8500\n",
      "Epoch 31/50\n",
      "6400/6400 [==============================] - 0s 31us/step - loss: 0.3441 - acc: 0.8611 - val_loss: 0.3606 - val_acc: 0.8494\n",
      "Epoch 32/50\n",
      "6400/6400 [==============================] - 0s 33us/step - loss: 0.3439 - acc: 0.8619 - val_loss: 0.3603 - val_acc: 0.8550\n",
      "Epoch 33/50\n",
      "6400/6400 [==============================] - 0s 31us/step - loss: 0.3440 - acc: 0.8619 - val_loss: 0.3594 - val_acc: 0.8550\n",
      "Epoch 34/50\n",
      "6400/6400 [==============================] - 0s 31us/step - loss: 0.3430 - acc: 0.8611 - val_loss: 0.3595 - val_acc: 0.8519\n",
      "Epoch 35/50\n",
      "6400/6400 [==============================] - 0s 32us/step - loss: 0.3438 - acc: 0.8628 - val_loss: 0.3600 - val_acc: 0.8500\n",
      "Epoch 36/50\n",
      "6400/6400 [==============================] - 0s 31us/step - loss: 0.3429 - acc: 0.8598 - val_loss: 0.3594 - val_acc: 0.8506\n",
      "Epoch 37/50\n",
      "6400/6400 [==============================] - 0s 32us/step - loss: 0.3427 - acc: 0.8636 - val_loss: 0.3589 - val_acc: 0.8512\n",
      "Epoch 38/50\n",
      "6400/6400 [==============================] - 0s 32us/step - loss: 0.3424 - acc: 0.8616 - val_loss: 0.3605 - val_acc: 0.8562\n",
      "Epoch 39/50\n",
      "6400/6400 [==============================] - 0s 35us/step - loss: 0.3427 - acc: 0.8616 - val_loss: 0.3573 - val_acc: 0.8550\n",
      "Epoch 40/50\n",
      "6400/6400 [==============================] - 0s 31us/step - loss: 0.3425 - acc: 0.8611 - val_loss: 0.3583 - val_acc: 0.8512\n",
      "Epoch 41/50\n",
      "6400/6400 [==============================] - 0s 31us/step - loss: 0.3422 - acc: 0.8614 - val_loss: 0.3584 - val_acc: 0.8506\n",
      "Epoch 42/50\n",
      "6400/6400 [==============================] - 0s 31us/step - loss: 0.3417 - acc: 0.8614 - val_loss: 0.3578 - val_acc: 0.8512\n",
      "Epoch 43/50\n",
      "6400/6400 [==============================] - 0s 31us/step - loss: 0.3418 - acc: 0.8631 - val_loss: 0.3569 - val_acc: 0.8525\n",
      "Epoch 44/50\n",
      "6400/6400 [==============================] - 0s 34us/step - loss: 0.3421 - acc: 0.8627 - val_loss: 0.3568 - val_acc: 0.8538\n",
      "Epoch 45/50\n",
      "6400/6400 [==============================] - 0s 37us/step - loss: 0.3415 - acc: 0.8627 - val_loss: 0.3571 - val_acc: 0.8519\n",
      "Epoch 46/50\n",
      "6400/6400 [==============================] - 0s 33us/step - loss: 0.3413 - acc: 0.8605 - val_loss: 0.3578 - val_acc: 0.8488\n",
      "Epoch 47/50\n",
      "6400/6400 [==============================] - 0s 34us/step - loss: 0.3411 - acc: 0.8620 - val_loss: 0.3574 - val_acc: 0.8531\n",
      "Epoch 48/50\n",
      "6400/6400 [==============================] - 0s 31us/step - loss: 0.3409 - acc: 0.8627 - val_loss: 0.3579 - val_acc: 0.8500\n",
      "Epoch 49/50\n",
      "6400/6400 [==============================] - 0s 31us/step - loss: 0.3407 - acc: 0.8631 - val_loss: 0.3584 - val_acc: 0.8500\n",
      "Epoch 50/50\n",
      "6400/6400 [==============================] - 0s 32us/step - loss: 0.3409 - acc: 0.8616 - val_loss: 0.3579 - val_acc: 0.8531\n"
     ]
    },
    {
     "data": {
      "text/plain": [
       "<keras.callbacks.History at 0x1229361d0>"
      ]
     },
     "execution_count": 95,
     "metadata": {},
     "output_type": "execute_result"
    }
   ],
   "source": [
    "model.fit(X_train, y_train, validation_split=.2, epochs=50, batch_size=32)"
   ]
  },
  {
   "cell_type": "code",
   "execution_count": 123,
   "metadata": {},
   "outputs": [],
   "source": [
    "y_predict = model.predict(X_test)"
   ]
  },
  {
   "cell_type": "code",
   "execution_count": 124,
   "metadata": {},
   "outputs": [
    {
     "name": "stdout",
     "output_type": "stream",
     "text": [
      "              precision    recall  f1-score   support\n",
      "\n",
      "           0       0.88      0.96      0.92      1595\n",
      "           1       0.76      0.47      0.58       405\n",
      "\n",
      "    accuracy                           0.86      2000\n",
      "   macro avg       0.82      0.72      0.75      2000\n",
      "weighted avg       0.85      0.86      0.85      2000\n",
      "\n"
     ]
    }
   ],
   "source": [
    "y_predict_50 = (y_predict > .5)\n",
    "print(classification_report(y_test, y_predict_50))"
   ]
  },
  {
   "cell_type": "code",
   "execution_count": 128,
   "metadata": {},
   "outputs": [
    {
     "name": "stdout",
     "output_type": "stream",
     "text": [
      "              precision    recall  f1-score   support\n",
      "\n",
      "           0       0.92      0.79      0.85      1595\n",
      "           1       0.47      0.75      0.58       405\n",
      "\n",
      "    accuracy                           0.78      2000\n",
      "   macro avg       0.70      0.77      0.72      2000\n",
      "weighted avg       0.83      0.78      0.80      2000\n",
      "\n"
     ]
    }
   ],
   "source": [
    "y_predict_20 = (y_predict > .2)\n",
    "print(classification_report(y_test, y_predict_20))"
   ]
  },
  {
   "cell_type": "code",
   "execution_count": null,
   "metadata": {},
   "outputs": [],
   "source": [
    "# Recall important in some scenarios - in this case it is the 1 class (customer leaves)"
   ]
  }
 ],
 "metadata": {
  "kernelspec": {
   "display_name": "Python 3",
   "language": "python",
   "name": "python3"
  },
  "language_info": {
   "codemirror_mode": {
    "name": "ipython",
    "version": 3
   },
   "file_extension": ".py",
   "mimetype": "text/x-python",
   "name": "python",
   "nbconvert_exporter": "python",
   "pygments_lexer": "ipython3",
   "version": "3.7.6"
  }
 },
 "nbformat": 4,
 "nbformat_minor": 4
}
