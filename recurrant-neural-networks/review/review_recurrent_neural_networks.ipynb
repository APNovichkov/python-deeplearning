{
 "cells": [
  {
   "cell_type": "code",
   "execution_count": 9,
   "metadata": {},
   "outputs": [],
   "source": [
    "import warnings\n",
    "warnings.simplefilter(action='ignore')\n",
    "\n",
    "from keras.datasets import mnist\n",
    "import numpy as np\n",
    "from keras.models import Sequential\n",
    "from keras.layers import Dense, Dropout, Activation\n",
    "from keras.layers import LSTM\n",
    "import keras"
   ]
  },
  {
   "cell_type": "markdown",
   "metadata": {},
   "source": [
    "# Review - Recurrent Neural Networks\n",
    "## A network that makes use of sequential information\n",
    "\n",
    "### What would we use this for?\n",
    "- In a traditional NN, we assume that all inputs are independent of each other, but for many tasks that is a bad assumption\n",
    "- If you want to predict the next word in a sentence, you better know what words came beforehand\n",
    "- Another example would be stock market predictions\n",
    "\n",
    "**Another way to look at Recurrent NN's is that they have a \"memory\" which captures information about what has been calculated so far**"
   ]
  },
  {
   "cell_type": "markdown",
   "metadata": {},
   "source": [
    "## Inputs and outputs of an RNN\n",
    "\n",
    "### Inputs:\n",
    "- Input Vector\n",
    "- Memory from previous block\n",
    "- Output of previous block\n",
    "\n",
    "### Outputs:\n",
    "- Output of current block\n",
    "- Memory from current block"
   ]
  },
  {
   "cell_type": "markdown",
   "metadata": {},
   "source": [
    "**RNN's** are also sometimes known as **LSTM(Long short-term memory)**"
   ]
  },
  {
   "cell_type": "markdown",
   "metadata": {},
   "source": [
    "## Let's try it out on the MNIST dataset\n",
    "\n",
    "- MNIST is an image, so what we are going to do is turn an image into sequential data"
   ]
  },
  {
   "cell_type": "markdown",
   "metadata": {},
   "source": [
    "Load the data, scale, and transform"
   ]
  },
  {
   "cell_type": "code",
   "execution_count": 10,
   "metadata": {},
   "outputs": [],
   "source": [
    "(x_train, y_train), (x_test, y_test) = mnist.load_data()\n",
    "x_train = x_train/np.max(x_train)\n",
    "x_test = x_test/np.max(x_test)\n",
    "y_train = keras.utils.to_categorical(y_train, 10)\n",
    "y_test = keras.utils.to_categorical(y_test, 10)"
   ]
  },
  {
   "cell_type": "markdown",
   "metadata": {},
   "source": [
    "Shape data is already the way we want it"
   ]
  },
  {
   "cell_type": "code",
   "execution_count": 11,
   "metadata": {},
   "outputs": [
    {
     "data": {
      "text/plain": [
       "(60000, 28, 28)"
      ]
     },
     "execution_count": 11,
     "metadata": {},
     "output_type": "execute_result"
    }
   ],
   "source": [
    "x_train.shape"
   ]
  },
  {
   "cell_type": "markdown",
   "metadata": {},
   "source": [
    "Define the model"
   ]
  },
  {
   "cell_type": "code",
   "execution_count": 12,
   "metadata": {},
   "outputs": [],
   "source": [
    "# This means we want to split each image into 50 parts\n",
    "nb_units = 50\n",
    "\n",
    "model = Sequential()\n",
    "model.add(LSTM(nb_units, input_shape=(28, 28)))\n",
    "model.add(Dense(units=10, activation='softmax'))\n",
    "model.compile(loss='categorical_crossentropy', optimizer='adam', metrics=['accuracy'])"
   ]
  },
  {
   "cell_type": "markdown",
   "metadata": {},
   "source": [
    "Fit the model"
   ]
  },
  {
   "cell_type": "code",
   "execution_count": 13,
   "metadata": {},
   "outputs": [
    {
     "name": "stdout",
     "output_type": "stream",
     "text": [
      "WARNING:tensorflow:From /opt/miniconda3/lib/python3.7/site-packages/tensorflow/python/ops/math_grad.py:1250: add_dispatch_support.<locals>.wrapper (from tensorflow.python.ops.array_ops) is deprecated and will be removed in a future version.\n",
      "Instructions for updating:\n",
      "Use tf.where in 2.0, which has the same broadcast rule as np.where\n",
      "WARNING:tensorflow:From /opt/miniconda3/lib/python3.7/site-packages/keras/backend/tensorflow_backend.py:986: The name tf.assign_add is deprecated. Please use tf.compat.v1.assign_add instead.\n",
      "\n",
      "Train on 48000 samples, validate on 12000 samples\n",
      "Epoch 1/10\n",
      "48000/48000 [==============================] - 10s 205us/step - loss: 0.9818 - acc: 0.6829 - val_loss: 0.3682 - val_acc: 0.8940\n",
      "Epoch 2/10\n",
      "48000/48000 [==============================] - 9s 180us/step - loss: 0.2908 - acc: 0.9148 - val_loss: 0.2194 - val_acc: 0.9387\n",
      "Epoch 3/10\n",
      "48000/48000 [==============================] - 10s 206us/step - loss: 0.1922 - acc: 0.9443 - val_loss: 0.1823 - val_acc: 0.9457\n",
      "Epoch 4/10\n",
      "48000/48000 [==============================] - 9s 179us/step - loss: 0.1514 - acc: 0.9558 - val_loss: 0.1408 - val_acc: 0.9597\n",
      "Epoch 5/10\n",
      "48000/48000 [==============================] - 9s 191us/step - loss: 0.1263 - acc: 0.9639 - val_loss: 0.1293 - val_acc: 0.9633\n",
      "Epoch 6/10\n",
      "48000/48000 [==============================] - 9s 184us/step - loss: 0.1078 - acc: 0.9690 - val_loss: 0.1452 - val_acc: 0.9586\n",
      "Epoch 7/10\n",
      "48000/48000 [==============================] - 10s 210us/step - loss: 0.0956 - acc: 0.9717 - val_loss: 0.1198 - val_acc: 0.9633\n",
      "Epoch 8/10\n",
      "48000/48000 [==============================] - 9s 190us/step - loss: 0.0831 - acc: 0.9750 - val_loss: 0.0933 - val_acc: 0.9734\n",
      "Epoch 9/10\n",
      "48000/48000 [==============================] - 9s 191us/step - loss: 0.0758 - acc: 0.9779 - val_loss: 0.0924 - val_acc: 0.9737\n",
      "Epoch 10/10\n",
      "48000/48000 [==============================] - 9s 188us/step - loss: 0.0718 - acc: 0.9786 - val_loss: 0.1037 - val_acc: 0.9713\n"
     ]
    }
   ],
   "source": [
    "history = model.fit(x_train, y_train, epochs=10, batch_size=128, validation_split=.2, verbose=1)"
   ]
  },
  {
   "cell_type": "code",
   "execution_count": 14,
   "metadata": {},
   "outputs": [
    {
     "name": "stdout",
     "output_type": "stream",
     "text": [
      "acc: 96.74%\n"
     ]
    }
   ],
   "source": [
    "scores = model.evaluate(x_test, y_test, verbose=2)\n",
    "print(\"%s: %.2f%%\" % (model.metrics_names[1], scores[1]*100))"
   ]
  },
  {
   "cell_type": "markdown",
   "metadata": {},
   "source": [
    "## I think there will be more of this in later classes, as this is mainly used in Natural Language Processing"
   ]
  },
  {
   "cell_type": "code",
   "execution_count": null,
   "metadata": {},
   "outputs": [],
   "source": []
  }
 ],
 "metadata": {
  "kernelspec": {
   "display_name": "Python 3",
   "language": "python",
   "name": "python3"
  },
  "language_info": {
   "codemirror_mode": {
    "name": "ipython",
    "version": 3
   },
   "file_extension": ".py",
   "mimetype": "text/x-python",
   "name": "python",
   "nbconvert_exporter": "python",
   "pygments_lexer": "ipython3",
   "version": "3.7.6"
  }
 },
 "nbformat": 4,
 "nbformat_minor": 4
}
