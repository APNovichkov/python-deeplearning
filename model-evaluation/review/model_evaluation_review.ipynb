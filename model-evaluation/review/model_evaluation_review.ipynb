{
 "cells": [
  {
   "cell_type": "code",
   "execution_count": 1,
   "metadata": {},
   "outputs": [
    {
     "name": "stderr",
     "output_type": "stream",
     "text": [
      "Using TensorFlow backend.\n"
     ]
    }
   ],
   "source": [
    "import warnings\n",
    "warnings.simplefilter(action='ignore', category=FutureWarning)\n",
    "\n",
    "import keras\n",
    "import matplotlib.pyplot as plt #This package is for plotting\n",
    "%matplotlib inline  \n",
    "import numpy as np\n",
    "from keras.datasets import mnist\n",
    "from keras.models import Sequential\n",
    "from keras.layers import Dense, Input\n",
    "from keras.optimizers import SGD\n",
    "from keras.initializers import RandomNormal\n",
    "from keras.models import load_model"
   ]
  },
  {
   "cell_type": "markdown",
   "metadata": {},
   "source": [
    "# Review of NN Model Evaluation\n",
    "\n",
    "**The key measurements are very similar to evaluating Machine Learning models**\n",
    "- For classification, it is accuracy\n",
    "- For regression, it is MSE\n",
    "\n",
    "**The only differences are:**\n",
    "- We want to see changes in these metrics over epochs\n",
    "- Draw two comparisons, one for the training data, and one for validation data\n",
    "- We are also interested in seeing the loss decreasing over epochs(this is the function we are trying to minimize)"
   ]
  },
  {
   "cell_type": "code",
   "execution_count": 2,
   "metadata": {},
   "outputs": [
    {
     "name": "stdout",
     "output_type": "stream",
     "text": [
      "WARNING:tensorflow:From /opt/miniconda3/lib/python3.7/site-packages/keras/backend/tensorflow_backend.py:74: The name tf.get_default_graph is deprecated. Please use tf.compat.v1.get_default_graph instead.\n",
      "\n",
      "WARNING:tensorflow:From /opt/miniconda3/lib/python3.7/site-packages/keras/backend/tensorflow_backend.py:517: The name tf.placeholder is deprecated. Please use tf.compat.v1.placeholder instead.\n",
      "\n",
      "WARNING:tensorflow:From /opt/miniconda3/lib/python3.7/site-packages/keras/backend/tensorflow_backend.py:4115: The name tf.random_normal is deprecated. Please use tf.random.normal instead.\n",
      "\n",
      "WARNING:tensorflow:From /opt/miniconda3/lib/python3.7/site-packages/keras/optimizers.py:790: The name tf.train.Optimizer is deprecated. Please use tf.compat.v1.train.Optimizer instead.\n",
      "\n",
      "WARNING:tensorflow:From /opt/miniconda3/lib/python3.7/site-packages/keras/backend/tensorflow_backend.py:3295: The name tf.log is deprecated. Please use tf.math.log instead.\n",
      "\n"
     ]
    }
   ],
   "source": [
    "# Load dataset\n",
    "(x_train, y_train), (x_test, y_test) = mnist.load_data()\n",
    "\n",
    "# Reshape x_train and x_test\n",
    "x_train = np.reshape(x_train,[-1, 28*28])\n",
    "x_test = np.reshape(x_test,[-1, 28*28])\n",
    "\n",
    "# Scale the data\n",
    "x_train = x_train/np.max(x_train)\n",
    "x_test = x_test/np.max(x_train)\n",
    "\n",
    "# Transform outcomes to categorical form\n",
    "y_train = keras.utils.to_categorical(y_train, 10)\n",
    "y_test = keras.utils.to_categorical(y_test, 10)\n",
    "\n",
    "# Create the model\n",
    "model = Sequential()\n",
    "model.add(Dense(512, activation='relu', input_shape=(784,), kernel_initializer= RandomNormal(0,0.01)))\n",
    "model.add(Dense(512, activation='relu', kernel_initializer= RandomNormal(0,0.01)))\n",
    "model.add(Dense(10, activation='softmax', kernel_initializer= RandomNormal(0,0.01)))\n",
    "sgd = SGD(lr=0.01)\n",
    "model.compile(loss='categorical_crossentropy', optimizer=sgd, metrics = ['accuracy'])"
   ]
  },
  {
   "cell_type": "code",
   "execution_count": 3,
   "metadata": {},
   "outputs": [
    {
     "name": "stdout",
     "output_type": "stream",
     "text": [
      "WARNING:tensorflow:From /opt/miniconda3/lib/python3.7/site-packages/tensorflow/python/ops/math_grad.py:1250: add_dispatch_support.<locals>.wrapper (from tensorflow.python.ops.array_ops) is deprecated and will be removed in a future version.\n",
      "Instructions for updating:\n",
      "Use tf.where in 2.0, which has the same broadcast rule as np.where\n",
      "WARNING:tensorflow:From /opt/miniconda3/lib/python3.7/site-packages/keras/backend/tensorflow_backend.py:986: The name tf.assign_add is deprecated. Please use tf.compat.v1.assign_add instead.\n",
      "\n",
      "Train on 48000 samples, validate on 12000 samples\n",
      "Epoch 1/10\n",
      "48000/48000 [==============================] - 7s 141us/step - loss: 2.2261 - acc: 0.2863 - val_loss: 1.7961 - val_acc: 0.5328\n",
      "Epoch 2/10\n",
      "48000/48000 [==============================] - 5s 108us/step - loss: 0.8869 - acc: 0.7499 - val_loss: 0.5031 - val_acc: 0.8585\n",
      "Epoch 3/10\n",
      "48000/48000 [==============================] - 6s 129us/step - loss: 0.4587 - acc: 0.8687 - val_loss: 0.3898 - val_acc: 0.8879\n",
      "Epoch 4/10\n",
      "48000/48000 [==============================] - 6s 127us/step - loss: 0.3777 - acc: 0.8931 - val_loss: 0.3339 - val_acc: 0.9034\n",
      "Epoch 5/10\n",
      "48000/48000 [==============================] - 6s 122us/step - loss: 0.3348 - acc: 0.9044 - val_loss: 0.2977 - val_acc: 0.9160\n",
      "Epoch 6/10\n",
      "48000/48000 [==============================] - 6s 127us/step - loss: 0.3014 - acc: 0.9140 - val_loss: 0.2711 - val_acc: 0.9232\n",
      "Epoch 7/10\n",
      "48000/48000 [==============================] - 7s 143us/step - loss: 0.2711 - acc: 0.9226 - val_loss: 0.2503 - val_acc: 0.9290\n",
      "Epoch 8/10\n",
      "48000/48000 [==============================] - 6s 120us/step - loss: 0.2437 - acc: 0.9312 - val_loss: 0.2263 - val_acc: 0.9349\n",
      "Epoch 9/10\n",
      "48000/48000 [==============================] - 6s 117us/step - loss: 0.2203 - acc: 0.9375 - val_loss: 0.2012 - val_acc: 0.9438\n",
      "Epoch 10/10\n",
      "48000/48000 [==============================] - 5s 114us/step - loss: 0.1997 - acc: 0.9437 - val_loss: 0.1894 - val_acc: 0.9476\n"
     ]
    }
   ],
   "source": [
    "model_history = model.fit(x_train, y_train, batch_size = 32, epochs = 10, verbose = 1, validation_split = 0.2)"
   ]
  },
  {
   "cell_type": "markdown",
   "metadata": {},
   "source": [
    "### Now that the model finished training:\n",
    "- Let's see what available values we have in model_history\n",
    "- Let's draw a couple plots to see the outcomes of the model training"
   ]
  },
  {
   "cell_type": "code",
   "execution_count": 4,
   "metadata": {},
   "outputs": [
    {
     "name": "stdout",
     "output_type": "stream",
     "text": [
      "Model History keys: dict_keys(['val_loss', 'val_acc', 'loss', 'acc'])\n"
     ]
    }
   ],
   "source": [
    "print(f'Model History keys: {model_history.history.keys()}')"
   ]
  },
  {
   "cell_type": "markdown",
   "metadata": {},
   "source": [
    "### Plot the Accuracy for training/testing"
   ]
  },
  {
   "cell_type": "code",
   "execution_count": 5,
   "metadata": {},
   "outputs": [
    {
     "data": {
      "image/png": "[encoded data removed]",
      "text/plain": [
       "<Figure size 432x288 with 1 Axes>"
      ]
     },
     "metadata": {
      "needs_background": "light"
     },
     "output_type": "display_data"
    }
   ],
   "source": [
    "# summarize history for accuracy\n",
    "plt.plot(model_history.history['acc'])\n",
    "plt.plot(model_history.history['val_acc'])\n",
    "plt.title('model accuracy')\n",
    "plt.ylabel('accuracy')\n",
    "plt.xlabel('epoch')\n",
    "plt.legend(['train', 'test'], loc='upper left')\n",
    "plt.show()"
   ]
  },
  {
   "cell_type": "markdown",
   "metadata": {},
   "source": [
    "### Insights:\n",
    "\n",
    "- We should generally see an increase in the training accuracy as we do more epochs\n",
    "- We should also expect to see an increase in the testing accuracy, which should generally be lower than the train, but in this case it looks to be even higher. "
   ]
  },
  {
   "cell_type": "markdown",
   "metadata": {},
   "source": [
    "### Plot the Loss for training/testing"
   ]
  },
  {
   "cell_type": "code",
   "execution_count": 7,
   "metadata": {},
   "outputs": [
    {
     "data": {
      "image/png": "[encoded data removed]",
      "text/plain": [
       "<Figure size 432x288 with 1 Axes>"
      ]
     },
     "metadata": {
      "needs_background": "light"
     },
     "output_type": "display_data"
    }
   ],
   "source": [
    "# summarize history for loss\n",
    "plt.plot(model_history.history['loss'])\n",
    "plt.plot(model_history.history['val_loss'])\n",
    "plt.title('model loss')\n",
    "plt.ylabel('loss')\n",
    "plt.xlabel('epoch')\n",
    "plt.legend(['train', 'test'], loc='upper left')\n",
    "plt.show()"
   ]
  },
  {
   "cell_type": "markdown",
   "metadata": {},
   "source": [
    "### What to expect: \n",
    "- We should see a decline in loss as the epochs go\n",
    "- We will also usually see that the test loss is generally higher than the training loss, but not in this case"
   ]
  },
  {
   "cell_type": "markdown",
   "metadata": {},
   "source": [
    "## Using Tensorboards\n",
    "\n",
    "- This is an application that lets us monitor the progress of our model as it is being trained\n",
    "- Shows us essentially these graphs in real time\n",
    "\n",
    "**For this we can utilize something called Callbacks in tensorflow**\n",
    "\n",
    "> tensorboard --logdir Graph"
   ]
  },
  {
   "cell_type": "code",
   "execution_count": 9,
   "metadata": {},
   "outputs": [
    {
     "name": "stdout",
     "output_type": "stream",
     "text": [
      "Epoch 1/10\n",
      "60000/60000 [==============================] - 7s 122us/step - loss: 0.1631 - acc: 0.9536\n",
      "Epoch 2/10\n",
      "60000/60000 [==============================] - 7s 112us/step - loss: 0.1483 - acc: 0.9582\n",
      "Epoch 3/10\n",
      "60000/60000 [==============================] - 6s 102us/step - loss: 0.1365 - acc: 0.9610\n",
      "Epoch 4/10\n",
      "60000/60000 [==============================] - 6s 102us/step - loss: 0.1252 - acc: 0.9644\n",
      "Epoch 5/10\n",
      "60000/60000 [==============================] - 6s 104us/step - loss: 0.1159 - acc: 0.9670\n",
      "Epoch 6/10\n",
      "60000/60000 [==============================] - 6s 102us/step - loss: 0.1076 - acc: 0.9698\n",
      "Epoch 7/10\n",
      "60000/60000 [==============================] - 6s 102us/step - loss: 0.1001 - acc: 0.9718\n",
      "Epoch 8/10\n",
      "60000/60000 [==============================] - 6s 102us/step - loss: 0.0934 - acc: 0.9735\n",
      "Epoch 9/10\n",
      "60000/60000 [==============================] - 6s 102us/step - loss: 0.0870 - acc: 0.9759\n",
      "Epoch 10/10\n",
      "60000/60000 [==============================] - 6s 102us/step - loss: 0.0815 - acc: 0.9772\n"
     ]
    },
    {
     "data": {
      "text/plain": [
       "<keras.callbacks.History at 0x14a5b5250>"
      ]
     },
     "execution_count": 9,
     "metadata": {},
     "output_type": "execute_result"
    }
   ],
   "source": [
    "from keras.callbacks import TensorBoard\n",
    "\n",
    "tensor_board = TensorBoard(log_dir='./Graph')\n",
    "\n",
    "model.fit(x_train, y_train, epochs=10, verbose=1, callbacks=[tensor_board])"
   ]
  },
  {
   "cell_type": "code",
   "execution_count": null,
   "metadata": {},
   "outputs": [],
   "source": []
  }
 ],
 "metadata": {
  "kernelspec": {
   "display_name": "Python 3",
   "language": "python",
   "name": "python3"
  },
  "language_info": {
   "codemirror_mode": {
    "name": "ipython",
    "version": 3
   },
   "file_extension": ".py",
   "mimetype": "text/x-python",
   "name": "python",
   "nbconvert_exporter": "python",
   "pygments_lexer": "ipython3",
   "version": "3.7.6"
  }
 },
 "nbformat": 4,
 "nbformat_minor": 4
}
