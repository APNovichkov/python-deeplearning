{
 "cells": [
  {
   "cell_type": "code",
   "execution_count": null,
   "metadata": {},
   "outputs": [],
   "source": []
  },
  {
   "cell_type": "markdown",
   "metadata": {},
   "source": [
    "# Review of using Keras with Large Datasets and Generators\n",
    "\n",
    "- When working with large datasets, the standard approach that we have used before will not work. \n",
    "- This is because when we do model.fit(x,y,...), keras adds that into the physical memory, and if the data is big enough, it can ran out of it, and crash the computer.\n",
    "\n",
    "**This is what Generators are used for**, so let's start by going over what they are!"
   ]
  },
  {
   "cell_type": "markdown",
   "metadata": {},
   "source": [
    "## Generator Function\n",
    "**Def:** This is a type of function in Python, which returns a lazy iterator(lazy evaluation), which uses a call-by-need evaluation strategy, reducing the amount of memory used to run a program.  \n",
    "  \n",
    "A very common use case for generator functions is when reading a huge txt file, which is going to be our use case for it. Here is an example: "
   ]
  },
  {
   "cell_type": "code",
   "execution_count": 2,
   "metadata": {},
   "outputs": [
    {
     "name": "stdout",
     "output_type": "stream",
     "text": [
      "# lines in file: 892\n"
     ]
    }
   ],
   "source": [
    "def generator_function(file):\n",
    "    for row in open(file, 'r'):\n",
    "        yield row\n",
    "    \n",
    "sum = 0\n",
    "for row in generator_function('titanic.csv'):\n",
    "    sum += 1\n",
    "    \n",
    "print(f'# lines in file: {sum}')"
   ]
  },
  {
   "cell_type": "markdown",
   "metadata": {},
   "source": [
    "The key difference, is we are not returning a specific value from the function, we are using the **yield** keyword, which returns a **lazy iterator**. \n",
    "\n",
    "#### Here is another example:"
   ]
  },
  {
   "cell_type": "code",
   "execution_count": 3,
   "metadata": {},
   "outputs": [
    {
     "name": "stdout",
     "output_type": "stream",
     "text": [
      "0\n",
      "1\n",
      "2\n"
     ]
    }
   ],
   "source": [
    "gen = (i for i in range(0,10))\n",
    "\n",
    "print(next(gen))\n",
    "print(next(gen))\n",
    "print(next(gen))"
   ]
  },
  {
   "cell_type": "markdown",
   "metadata": {},
   "source": [
    "## Using Generators with Keras\n",
    "- This will come in handy, again, when we want to work with a very large dataset, which is usually images, but could be text as well.\n",
    "- The main difference is that we are going to use the **model.fit_generate()** function instead of just **model.fit()**, and pass our data in as a generator!"
   ]
  },
  {
   "cell_type": "code",
   "execution_count": null,
   "metadata": {},
   "outputs": [],
   "source": [
    "def batch_generator(df, batch_size, path_tiles, num_classes):\n",
    "    \"\"\"This generator use a pandas DataFrame to read images (df.tile_name) from disk.\"\"\"\n",
    "    \n",
    "    # Number of images\n",
    "    N = df.shape[0]\n",
    "    while True:\n",
    "        for start in range(0, N, batch_size):\n",
    "            x_batch = []\n",
    "            y_batch = []\n",
    "            end = min(start + batch_size, N)\n",
    "            df_tmp = df[start:end]\n",
    "            ids_batch = df_tmp.tile_name\n",
    "            for id in ids_batch:\n",
    "                img = cv2.imread(path_tiles+'/{}'.format(id))\n",
    "                # [0] since duplicated names\n",
    "                labelname=df_tmp['y'][df_tmp.tile_name == id].values[0]  \n",
    "                labelname=np.asscalar(labelname)\n",
    "                x_batch.append(img)\n",
    "                y_batch.append(labelname)\n",
    "            x_batch = np.array(x_batch, np.float32) / 255\n",
    "            y_batch = utils.np_utils.to_categorical(y_batch, num_classes)\n",
    "            yield (x_batch, y_batch)"
   ]
  }
 ],
 "metadata": {
  "kernelspec": {
   "display_name": "Python 3",
   "language": "python",
   "name": "python3"
  },
  "language_info": {
   "codemirror_mode": {
    "name": "ipython",
    "version": 3
   },
   "file_extension": ".py",
   "mimetype": "text/x-python",
   "name": "python",
   "nbconvert_exporter": "python",
   "pygments_lexer": "ipython3",
   "version": "3.7.6"
  }
 },
 "nbformat": 4,
 "nbformat_minor": 4
}
