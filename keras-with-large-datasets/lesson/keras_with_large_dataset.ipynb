{
 "cells": [
  {
   "cell_type": "code",
   "execution_count": 8,
   "metadata": {},
   "outputs": [
    {
     "data": {
      "text/plain": [
       "generator"
      ]
     },
     "execution_count": 8,
     "metadata": {},
     "output_type": "execute_result"
    }
   ],
   "source": [
    "# Generators\n",
    "a = (i for i in range(1, 10))\n",
    "type(a)"
   ]
  },
  {
   "cell_type": "code",
   "execution_count": 9,
   "metadata": {},
   "outputs": [
    {
     "name": "stdout",
     "output_type": "stream",
     "text": [
      "1\n",
      "2\n",
      "3\n"
     ]
    }
   ],
   "source": [
    "print(next(a))\n",
    "print(next(a))\n",
    "print(next(a))"
   ]
  },
  {
   "cell_type": "code",
   "execution_count": 11,
   "metadata": {},
   "outputs": [
    {
     "name": "stdout",
     "output_type": "stream",
     "text": [
      "4\n",
      "5\n",
      "6\n",
      "7\n",
      "8\n",
      "9\n"
     ]
    }
   ],
   "source": [
    "for i in a:\n",
    "    print(i)"
   ]
  },
  {
   "cell_type": "code",
   "execution_count": 12,
   "metadata": {},
   "outputs": [],
   "source": [
    "# Do some more research on this.. How it actually works under the hood"
   ]
  },
  {
   "cell_type": "code",
   "execution_count": 22,
   "metadata": {},
   "outputs": [],
   "source": [
    "import pandas as pd\n",
    "\n",
    "titanic_chunks = pd.read_csv('titanic.csv', chunksize=100)"
   ]
  },
  {
   "cell_type": "code",
   "execution_count": 23,
   "metadata": {},
   "outputs": [
    {
     "name": "stdout",
     "output_type": "stream",
     "text": [
      "0\n",
      "0     22.0\n",
      "1     38.0\n",
      "2     26.0\n",
      "3     35.0\n",
      "4     35.0\n",
      "      ... \n",
      "95     NaN\n",
      "96    71.0\n",
      "97    23.0\n",
      "98    34.0\n",
      "99    34.0\n",
      "Name: Age, Length: 100, dtype: float64\n",
      "1\n",
      "100    28.0\n",
      "101     NaN\n",
      "102    21.0\n",
      "103    33.0\n",
      "104    37.0\n",
      "       ... \n",
      "195    58.0\n",
      "196     NaN\n",
      "197    42.0\n",
      "198     NaN\n",
      "199    24.0\n",
      "Name: Age, Length: 100, dtype: float64\n",
      "2\n",
      "200    28.0\n",
      "201     NaN\n",
      "202    34.0\n",
      "203    45.5\n",
      "204    18.0\n",
      "       ... \n",
      "295     NaN\n",
      "296    23.5\n",
      "297     2.0\n",
      "298     NaN\n",
      "299    50.0\n",
      "Name: Age, Length: 100, dtype: float64\n",
      "3\n",
      "300     NaN\n",
      "301     NaN\n",
      "302    19.0\n",
      "303     NaN\n",
      "304     NaN\n",
      "       ... \n",
      "395    22.0\n",
      "396    31.0\n",
      "397    46.0\n",
      "398    23.0\n",
      "399    28.0\n",
      "Name: Age, Length: 100, dtype: float64\n",
      "4\n",
      "400    39.0\n",
      "401    26.0\n",
      "402    21.0\n",
      "403    28.0\n",
      "404    20.0\n",
      "       ... \n",
      "495     NaN\n",
      "496    54.0\n",
      "497     NaN\n",
      "498    25.0\n",
      "499    24.0\n",
      "Name: Age, Length: 100, dtype: float64\n",
      "5\n",
      "500    17.0\n",
      "501    21.0\n",
      "502     NaN\n",
      "503    37.0\n",
      "504    16.0\n",
      "       ... \n",
      "595    36.0\n",
      "596     NaN\n",
      "597    49.0\n",
      "598     NaN\n",
      "599    49.0\n",
      "Name: Age, Length: 100, dtype: float64\n",
      "6\n",
      "600    24.0\n",
      "601     NaN\n",
      "602     NaN\n",
      "603    44.0\n",
      "604    35.0\n",
      "       ... \n",
      "695    52.0\n",
      "696    44.0\n",
      "697     NaN\n",
      "698    49.0\n",
      "699    42.0\n",
      "Name: Age, Length: 100, dtype: float64\n",
      "7\n",
      "700    18.0\n",
      "701    35.0\n",
      "702    18.0\n",
      "703    25.0\n",
      "704    26.0\n",
      "       ... \n",
      "795    39.0\n",
      "796    49.0\n",
      "797    31.0\n",
      "798    30.0\n",
      "799    30.0\n",
      "Name: Age, Length: 100, dtype: float64\n",
      "8\n",
      "800    34.00\n",
      "801    31.00\n",
      "802    11.00\n",
      "803     0.42\n",
      "804    27.00\n",
      "       ...  \n",
      "886    27.00\n",
      "887    19.00\n",
      "888      NaN\n",
      "889    26.00\n",
      "890    32.00\n",
      "Name: Age, Length: 91, dtype: float64\n"
     ]
    }
   ],
   "source": [
    "for i, chunk in enumerate(titanic_chunks):\n",
    "    print(i)\n",
    "    print(chunk['Age'])"
   ]
  },
  {
   "cell_type": "code",
   "execution_count": 28,
   "metadata": {
    "scrolled": true
   },
   "outputs": [
    {
     "name": "stdout",
     "output_type": "stream",
     "text": [
      "<class 'pandas.io.parsers.TextFileReader'>\n",
      "<class 'generator'>\n",
      "(0     22.0\n",
      "1     38.0\n",
      "2     26.0\n",
      "3     35.0\n",
      "4     35.0\n",
      "      ... \n",
      "95     NaN\n",
      "96    71.0\n",
      "97    23.0\n",
      "98    34.0\n",
      "99    34.0\n",
      "Name: Age, Length: 100, dtype: float64, 0       male\n",
      "1     female\n",
      "2     female\n",
      "3     female\n",
      "4       male\n",
      "       ...  \n",
      "95      male\n",
      "96      male\n",
      "97      male\n",
      "98    female\n",
      "99      male\n",
      "Name: Sex, Length: 100, dtype: object)\n"
     ]
    }
   ],
   "source": [
    "# Here is how to create generator function\n",
    "\n",
    "def data_generator(iterator):\n",
    "    for chunk in iterator:\n",
    "        yield (chunk['Age'], chunk['Sex'])\n",
    "        \n",
    "data = pd.read_csv('titanic.csv', chunksize=100)\n",
    "G = data_generator(data)\n",
    "\n",
    "print(type(data))\n",
    "print(type(G))\n",
    "\n",
    "print(next(G))"
   ]
  },
  {
   "cell_type": "code",
   "execution_count": 29,
   "metadata": {},
   "outputs": [],
   "source": [
    "# SO I guess a yield is a way to turn normal data into a generator data type"
   ]
  },
  {
   "cell_type": "code",
   "execution_count": 30,
   "metadata": {},
   "outputs": [],
   "source": [
    "# Activity - Mnist Data Augmentation"
   ]
  },
  {
   "cell_type": "code",
   "execution_count": 38,
   "metadata": {},
   "outputs": [],
   "source": [
    "import warnings\n",
    "warnings.simplefilter(action='ignore', category=FutureWarning)\n",
    "\n",
    "from keras.datasets import mnist\n",
    "from matplotlib import pyplot\n",
    "\n",
    "# Original Data\n",
    "(X_train, y_train), (X_test, y_test) = mnist.load_data()"
   ]
  },
  {
   "cell_type": "code",
   "execution_count": 39,
   "metadata": {},
   "outputs": [
    {
     "data": {
      "text/plain": [
       "(60000, 28, 28)"
      ]
     },
     "execution_count": 39,
     "metadata": {},
     "output_type": "execute_result"
    }
   ],
   "source": [
    "X_train.shape"
   ]
  },
  {
   "cell_type": "code",
   "execution_count": 41,
   "metadata": {},
   "outputs": [],
   "source": [
    "# Reshape the Data\n",
    "X_train = X_train.reshape((X_train.shape[0], 28, 28, 1))\n",
    "X_test = X_test.reshape((X_test.shape[0], 28, 28, 1))"
   ]
  },
  {
   "cell_type": "code",
   "execution_count": 42,
   "metadata": {},
   "outputs": [
    {
     "data": {
      "text/plain": [
       "(60000, 28, 28, 1)"
      ]
     },
     "execution_count": 42,
     "metadata": {},
     "output_type": "execute_result"
    }
   ],
   "source": [
    "X_train.shape"
   ]
  },
  {
   "cell_type": "code",
   "execution_count": 36,
   "metadata": {},
   "outputs": [],
   "source": [
    "from keras.preprocessing.image import ImageDataGenerator\n",
    "\n",
    "datagen = ImageDataGenerator(rotation_range=90)\n",
    "# fit parameters from data\n",
    "datagen.fit(X_train)\n",
    "\n"
   ]
  },
  {
   "cell_type": "code",
   "execution_count": null,
   "metadata": {},
   "outputs": [],
   "source": []
  }
 ],
 "metadata": {
  "kernelspec": {
   "display_name": "Python 3",
   "language": "python",
   "name": "python3"
  },
  "language_info": {
   "codemirror_mode": {
    "name": "ipython",
    "version": 3
   },
   "file_extension": ".py",
   "mimetype": "text/x-python",
   "name": "python",
   "nbconvert_exporter": "python",
   "pygments_lexer": "ipython3",
   "version": "3.7.6"
  }
 },
 "nbformat": 4,
 "nbformat_minor": 4
}
